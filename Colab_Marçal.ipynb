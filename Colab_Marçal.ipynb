{
  "nbformat": 4,
  "nbformat_minor": 0,
  "metadata": {
    "colab": {
      "name": "Colab Marçal.ipynb",
      "provenance": [],
      "collapsed_sections": []
    },
    "kernelspec": {
      "name": "python3",
      "display_name": "Python 3"
    },
    "language_info": {
      "name": "python"
    }
  },
  "cells": [
    {
      "cell_type": "code",
      "source": [
        "import numpy as np"
      ],
      "metadata": {
        "id": "2pimQegR0I7Z"
      },
      "execution_count": 432,
      "outputs": []
    },
    {
      "cell_type": "code",
      "source": [
        "def read_csv(file):\n",
        "    objects = np.genfromtxt(file, delimiter=',',dtype=float)\n",
        "    objects = objects[1:,2:]\n",
        "    objects.sort()\n",
        "    total_space = 0.0\n",
        "    for obj in objects:\n",
        "        total_space += obj[0]*obj[1]*obj[2]\n",
        "\n",
        "    return objects, total_space"
      ],
      "metadata": {
        "id": "gRFM9_ha-0JL"
      },
      "execution_count": 433,
      "outputs": []
    },
    {
      "cell_type": "code",
      "source": [
        ""
      ],
      "metadata": {
        "id": "Gtjt8j64kvYV"
      },
      "execution_count": 433,
      "outputs": []
    },
    {
      "cell_type": "code",
      "source": [
        "# Input: nombre objectes que es volen crear, valors minim i maxim de les mides\n",
        "# Output: objects (shape=(num_objects, 3)), total espai que ocupen\n",
        "\n",
        "def init_objects(num_objects, min_val, max_val):\n",
        "    \n",
        "    dim = 3\n",
        "\n",
        "    #Intenta crear una distribució no-uniforme, per a crear \"clusters\"\n",
        "    o1 = np.random.randint(min_val, min_val+(max_val-min_val)//4, size=(num_objects*3//7 * dim))\n",
        "    o2 = np.random.randint(max_val//4, min_val+(max_val-min_val)*3//4, size=(num_objects//7 * dim))\n",
        "    o3 = np.random.randint(max_val*3//4, min_val+(max_val-min_val), size=(dim*num_objects-len(o1)-len(o2)))\n",
        "\n",
        "    objects = np.concatenate([o1,o2,o3])\n",
        "    #np.random.shuffle(objects)\n",
        "    \n",
        "    objects = objects.reshape((num_objects, dim))\n",
        "    objects.sort()\n",
        "\n",
        "    total_space = 0.0  #espai total dels objectes\n",
        "    for obj in objects:\n",
        "        s = obj[0]*obj[1]\n",
        "        if dim==3:\n",
        "            s *= obj[2]\n",
        "        total_space += s\n",
        "\n",
        "    return objects, total_space\n"
      ],
      "metadata": {
        "id": "wzLzWWxf2Eus"
      },
      "execution_count": 434,
      "outputs": []
    },
    {
      "cell_type": "code",
      "source": [
        "#Input: nombre de caixes a inicialitzar, llista d'objectes\n",
        "#Output: es trien mides de caixes iguals que mides d'alguns objectes (random)\n",
        "#OBS// una de les caixes ha de ser de mida màxima (que pugui contenir qualsevol objecte)\n",
        "\n",
        "def init_boxes(num_boxes, objects):\n",
        "    \n",
        "    box_sizes = []\n",
        "    box_sizes.append( tuple(np.max(objects, axis=0)) )  #aquesta caixa pot contenir qualsevol objecte\n",
        "\n",
        "    idx = np.random.choice(len(objects), size=num_boxes-1, replace=False)\n",
        "\n",
        "    for i in idx:\n",
        "        box_sizes.append( tuple(objects[i]) )\n",
        "    \n",
        "    return np.sort( np.array(box_sizes) )\n"
      ],
      "metadata": {
        "id": "NDFQFy5osVKd"
      },
      "execution_count": 435,
      "outputs": []
    },
    {
      "cell_type": "code",
      "source": [
        "### Input: llista d'objectes, una assignació de caixes a cada objecte\n",
        "# Com a màxim s'usen 'NUM_CAIXES' caixes (pot ser menys)\n",
        "### Output: una llista de tripletes amb les mides de les caixes\n",
        "\n",
        "def compute_sizes(objects, box_assignment, num_boxes):\n",
        "    if len(objects[0])==3:\n",
        "        sizes = [(0,0,0)] * num_boxes   #sizes[k] = (X1,X2,X3)  => mida caixa 'k'\n",
        "    else:\n",
        "        sizes = [(0,0)] * num_boxes\n",
        "\n",
        "    for box in range(num_boxes):\n",
        "        object_indexes = np.where(np.array(box_assignment)==box)[0]\n",
        "\n",
        "        if list(object_indexes):\n",
        "            sizes[box] = tuple(np.max( objects[object_indexes], axis=0))\n",
        "    \n",
        "    #assert sum([s[0]*s[1]*s[2] == 0 for s in sizes]) == 0\n",
        "    return np.sort( np.array(sizes) )\n"
      ],
      "metadata": {
        "id": "u4kioXSO38dP"
      },
      "execution_count": 436,
      "outputs": []
    },
    {
      "cell_type": "code",
      "source": [
        ""
      ],
      "metadata": {
        "id": "fu2nQrI4cGsf"
      },
      "execution_count": 436,
      "outputs": []
    },
    {
      "cell_type": "code",
      "source": [
        "### Input: llista d'objectes i llista de mides de caixes\n",
        "### Output: vector d'assignació per a cada objecte.\n",
        "\n",
        "def compute_assignment(objects, box_sizes):\n",
        "\n",
        "    assignment = [None] * len(objects)\n",
        "\n",
        "    for obj_id, obj in enumerate(objects):\n",
        "\n",
        "        min_space = float(\"inf\")\n",
        "\n",
        "        for box_id, box in enumerate(box_sizes):\n",
        "            if (np.array(box) == 0).all():\n",
        "                #print(\"Caixa sense mesura (compute_assignment\")\n",
        "                continue\n",
        "\n",
        "            if len(box)==3:\n",
        "                assert box[0] <= box[1] <= box[2]\n",
        "                assert obj[0] <= obj[1] <= obj[2]\n",
        "                box_space = box[0]*box[1]*box[2]\n",
        "                fits = obj[0]<=box[0] and obj[1]<=box[1] and obj[2]<=obj[2]\n",
        "            elif len(box)==2:\n",
        "                assert box[0] <= box[1]\n",
        "                assert obj[0] <= obj[1]\n",
        "                box_space = box[0]*box[1]\n",
        "                fits = obj[0]<=box[0] and obj[1]<=box[1]\n",
        "            #print(\"    \", box, \":\", box_space, \"fits:\", fits)\n",
        "            if fits and box_space < min_space:\n",
        "                assignment[obj_id] = box_id \n",
        "                min_space = box_space\n",
        "\n",
        "    #print(assignment)\n",
        "    assert sum([s is None for s in assignment]) == 0\n",
        "    return np.array(assignment)\n",
        "   "
      ],
      "metadata": {
        "id": "NJP6z_LMwU0d"
      },
      "execution_count": 437,
      "outputs": []
    },
    {
      "cell_type": "code",
      "source": [
        "### Comprova si el input donat és més òptim que la millor solució actual\n",
        "### Si cal, actualitza les variables globals per a guardar la millor solució\n",
        "\n",
        "def check_if_best(box_assignment, box_sizes):\n",
        "\n",
        "    space = 0.0  #espai buit en el total de caixes\n",
        "    \n",
        "    for box, size in enumerate(box_sizes):\n",
        "        if size is not None:\n",
        "            a = np.sum(box_assignment==box)\n",
        "            if len(size)==3:\n",
        "                space += a*size[0]*size[1]*size[2]\n",
        "            elif len(size)==2:\n",
        "                space += a*size[0]*size[1]\n",
        "\n",
        "\n",
        "\n",
        "    global BEST_SIZES\n",
        "    global BEST_SPACE\n",
        "    global BEST_ASSIGNMENT\n",
        "\n",
        "    if space < BEST_SPACE:\n",
        "\n",
        "        BEST_SPACE = space\n",
        "        BEST_ASSIGNMENT = tuple(box_assignment)\n",
        "        BEST_SIZES = box_sizes\n"
      ],
      "metadata": {
        "id": "A2ULx4t2Ih6i"
      },
      "execution_count": 438,
      "outputs": []
    },
    {
      "cell_type": "code",
      "source": [
        "\"\"\"K-MEANS MAIN FUNCTION\"\"\"\n",
        "### INICIALITZACIÓ DE MIDES DE CAIXES ###\n",
        "\n",
        "###  PARAMETRES\n",
        "DIM = 3\n",
        "NUM_OBJECTS = 1000\n",
        "NUM_BOXES = 5\n",
        "NUM_ITER = 15\n",
        "MIN_VAL = 10\n",
        "MAX_VAL = 100\n",
        "np.random.seed(1234)\n",
        "\n",
        "###  GLOBAL VARIABLES\n",
        "BEST_SPACE = float('inf')  #espai total de caixes\n",
        "BEST_SIZE = None\n",
        "BEST_ASSIGNMENT = None\n",
        "\n",
        "#Inicialitzem els objectes\n",
        "OBJECTS, TOTAL_SPACE = init_objects(NUM_OBJECTS, MIN_VAL, MAX_VAL)\n",
        "#OBJECTS, TOTAL_SPACE = read_csv(\"objectes.csv\")\n",
        "#NUM_OBJECTS = len(OBJECTS)\n",
        "\n",
        "#Executem l'algorisme NUM_ITER vegades\n",
        "for i in range(NUM_ITER):\n",
        "\n",
        "    if i%10 == 0:\n",
        "        print(\"i=\", i)\n",
        "\n",
        "    #Comencem amb assignació aleatoria de mides de caixes\n",
        "    box_sizes = init_boxes(NUM_BOXES, OBJECTS)\n",
        "\n",
        "    i = 0\n",
        "    convergence = False  #convergence: quan no s'actualitzin les assignacions (minim local)\n",
        "    while not convergence:\n",
        "\n",
        "        #Calcul de mides de caixes amb assignació actual\n",
        "        #old_sizes = box_sizes.copy()\n",
        "        box_assignment = compute_assignment(OBJECTS, box_sizes)\n",
        "\n",
        "        #Calcul de mides de caixes segon assignacions actuals\n",
        "        #print(\"EEEEE\", box_sizes)\n",
        "        new_sizes = compute_sizes(OBJECTS, box_assignment, NUM_BOXES)\n",
        "        convergence = (np.array(box_sizes) == np.array(new_sizes)).all()\n",
        "        i += 1\n",
        "        if convergence:\n",
        "            #print(\"iters before convergence =\", i)\n",
        "            pass\n",
        "        \n",
        "        print_ = False\n",
        "        if print_:\n",
        "            print(\"current assignment =\", box_assignment)\n",
        "            print(\"old box_sizes =\", box_sizes)\n",
        "            print(\"new box_sizes =\", new_sizes)\n",
        "            print(\"convergece? = \", convergence, \"(\",i,\")\")\n",
        "            print()\n",
        "            \n",
        "        box_sizes = new_sizes.copy()\n",
        "\n",
        "        check_if_best(box_assignment, box_sizes)\n"
      ],
      "metadata": {
        "colab": {
          "base_uri": "https://localhost:8080/"
        },
        "id": "eVtm4_dKdC2H",
        "outputId": "da3b60b5-558a-4d08-a6e6-5bd4b844cfdb"
      },
      "execution_count": 439,
      "outputs": [
        {
          "output_type": "stream",
          "name": "stdout",
          "text": [
            "i= 0\n",
            "i= 10\n"
          ]
        }
      ]
    },
    {
      "cell_type": "code",
      "source": [
        "import matplotlib.pyplot as plt\n",
        "\n",
        "def plot(objects, box_assignment, box_sizes, display_info=False):\n",
        "\n",
        "    colors = ('b','g','r','c','m','y','k','w')\n",
        "    assert len(colors) >= len(box_sizes)  #afegir més colors!\n",
        "\n",
        "    box_assignment = np.array(box_assignment)\n",
        "\n",
        "    for box_id in range(len(box_sizes)):\n",
        "        c = colors[box_id]\n",
        "        objs = objects[box_assignment==box_id]\n",
        "        if display_info:\n",
        "            print(\"box_id:\",box_id,\"  size:\",best_sizes[box_id],\"  num_objs:\",len(objs),\"  min_obj:\",np.min(objs,axis=0),\"  max_obj:\",np.max(objs,axis=0))\n",
        "        plt.scatter(objs[:,0], objs[:,1], marker=\".\", c=c)\n",
        "        a,b = box_sizes[box_id]\n",
        "        plt.plot((0,a), (b,b), color=c)\n",
        "        plt.plot((a,a), (0,b), color=c)\n",
        "        \n",
        "    plt.show()\n",
        "\n",
        "#plot(OBJECTS, BEST_ASSIGNMENT, BEST_SIZES)"
      ],
      "metadata": {
        "id": "-rBsVZiMrICA"
      },
      "execution_count": 440,
      "outputs": []
    },
    {
      "cell_type": "code",
      "source": [
        "for id, o in enumerate(OBJECTS):\n",
        "    if o[0]==26 and o[1]==30:\n",
        "        print(id, o)"
      ],
      "metadata": {
        "id": "OWnpldEFBRFq",
        "colab": {
          "base_uri": "https://localhost:8080/"
        },
        "outputId": "bc7a160c-cc3e-4502-e001-7bd81354f0d1"
      },
      "execution_count": 441,
      "outputs": [
        {
          "output_type": "stream",
          "name": "stdout",
          "text": [
            "560 [26 30 75]\n"
          ]
        }
      ]
    },
    {
      "cell_type": "code",
      "source": [
        "oo = OBJECTS[np.array(BEST_ASSIGNMENT)==0]\n",
        "print(len(oo))\n",
        "plt.scatter(oo[:,0], oo[:,1])"
      ],
      "metadata": {
        "id": "HuNHnrjn5npF",
        "colab": {
          "base_uri": "https://localhost:8080/",
          "height": 302
        },
        "outputId": "e72c675b-49ad-43cb-ec31-7d4fad2b34e1"
      },
      "execution_count": 442,
      "outputs": [
        {
          "output_type": "stream",
          "name": "stdout",
          "text": [
            "103\n"
          ]
        },
        {
          "output_type": "execute_result",
          "data": {
            "text/plain": [
              "<matplotlib.collections.PathCollection at 0x7feab6789cd0>"
            ]
          },
          "metadata": {},
          "execution_count": 442
        },
        {
          "output_type": "display_data",
          "data": {
            "text/plain": [
              "<Figure size 432x288 with 1 Axes>"
            ],
            "image/png": "[encoded data removed]"
          },
          "metadata": {
            "needs_background": "light"
          }
        }
      ]
    },
    {
      "cell_type": "code",
      "source": [
        "print(\"####   BEST SOLUTION   ####\")\n",
        "print(\"BEST_SIZES = \", BEST_SIZES[:5])\n",
        "print(\"Filled Space[%] = \", round(TOTAL_SPACE/BEST_SPACE*100, 2),\"%\")\n",
        "if len(OBJECTS[0])==3:\n",
        "    unused_boxes = sum([(box==(0,0,0)).all() for box in BEST_SIZES])\n",
        "else:\n",
        "    unused_boxes = sum([(box==(0,0)).all() for box in BEST_SIZES])\n",
        "print(\"Unused boxes = {} ({})\".format(unused_boxes, NUM_BOXES))\n",
        "print(\"####                   ####\")\n",
        "\n",
        "print(\"Num objects = \", NUM_OBJECTS)\n",
        "for i in range(NUM_BOXES):\n",
        "    print(\"box\", i, \":\", np.sum( np.array(BEST_ASSIGNMENT)==i), \"objects;   size = \", BEST_SIZES[i])"
      ],
      "metadata": {
        "id": "d-CaBY5b_Hkd",
        "colab": {
          "base_uri": "https://localhost:8080/"
        },
        "outputId": "a7f09540-0b74-4e71-a0c8-32cc8b5aca06"
      },
      "execution_count": 443,
      "outputs": [
        {
          "output_type": "stream",
          "name": "stdout",
          "text": [
            "####   BEST SOLUTION   ####\n",
            "BEST_SIZES =  [[95 99 99]\n",
            " [88 91 99]\n",
            " [44 56 76]\n",
            " [17 18 31]\n",
            " [83 86 99]]\n",
            "Filled Space[%] =  67.56 %\n",
            "Unused boxes = 0 (5)\n",
            "####                   ####\n",
            "Num objects =  1000\n",
            "box 0 : 103 objects;   size =  [95 99 99]\n",
            "box 1 : 157 objects;   size =  [88 91 99]\n",
            "box 2 : 382 objects;   size =  [44 56 76]\n",
            "box 3 : 132 objects;   size =  [17 18 31]\n",
            "box 4 : 226 objects;   size =  [83 86 99]\n"
          ]
        }
      ]
    },
    {
      "cell_type": "code",
      "source": [
        "print(TOTAL_SPACE)\n",
        "print(BEST_SPACE)"
      ],
      "metadata": {
        "colab": {
          "base_uri": "https://localhost:8080/"
        },
        "id": "MhndejhgvECw",
        "outputId": "51a29c4b-9118-4033-c206-093ca10adf35"
      },
      "execution_count": 444,
      "outputs": [
        {
          "output_type": "stream",
          "name": "stdout",
          "text": [
            "305972491.0\n",
            "452863741.0\n"
          ]
        }
      ]
    },
    {
      "cell_type": "code",
      "source": [
        "print(\"OBJECT_size  -->  BOX_size\")\n",
        "i = 0\n",
        "for box, obj in zip(BEST_ASSIGNMENT,OBJECTS):\n",
        "    box_size = BEST_SIZES[box]\n",
        "    print(obj, \" ---> \", box_size)\n",
        "    \n",
        "    i += 1\n",
        "    if i > 20:\n",
        "        break"
      ],
      "metadata": {
        "id": "3RxE32kPEVkb",
        "colab": {
          "base_uri": "https://localhost:8080/"
        },
        "outputId": "f81fb3d9-13d4-4b1b-c247-338a3482adf3"
      },
      "execution_count": 445,
      "outputs": [
        {
          "output_type": "stream",
          "name": "stdout",
          "text": [
            "OBJECT_size  -->  BOX_size\n",
            "[16 25 29]  --->  [44 56 76]\n",
            "[22 30 31]  --->  [44 56 76]\n",
            "[19 25 27]  --->  [44 56 76]\n",
            "[21 22 26]  --->  [44 56 76]\n",
            "[15 19 26]  --->  [44 56 76]\n",
            "[25 26 28]  --->  [44 56 76]\n",
            "[12 15 22]  --->  [17 18 31]\n",
            "[13 16 17]  --->  [17 18 31]\n",
            "[10 19 21]  --->  [44 56 76]\n",
            "[13 21 26]  --->  [44 56 76]\n",
            "[12 22 29]  --->  [44 56 76]\n",
            "[11 21 29]  --->  [44 56 76]\n",
            "[21 24 27]  --->  [44 56 76]\n",
            "[17 20 29]  --->  [44 56 76]\n",
            "[21 24 27]  --->  [44 56 76]\n",
            "[10 23 30]  --->  [44 56 76]\n",
            "[15 22 27]  --->  [44 56 76]\n",
            "[15 23 30]  --->  [44 56 76]\n",
            "[18 19 26]  --->  [44 56 76]\n",
            "[16 22 22]  --->  [44 56 76]\n",
            "[25 27 29]  --->  [44 56 76]\n"
          ]
        }
      ]
    },
    {
      "cell_type": "code",
      "source": [
        "BEST_SIZES"
      ],
      "metadata": {
        "id": "juifwxLBG352",
        "colab": {
          "base_uri": "https://localhost:8080/"
        },
        "outputId": "38f28dd5-a369-40b4-a257-0a025b30a8d3"
      },
      "execution_count": 446,
      "outputs": [
        {
          "output_type": "execute_result",
          "data": {
            "text/plain": [
              "array([[95, 99, 99],\n",
              "       [88, 91, 99],\n",
              "       [44, 56, 76],\n",
              "       [17, 18, 31],\n",
              "       [83, 86, 99]])"
            ]
          },
          "metadata": {},
          "execution_count": 446
        }
      ]
    },
    {
      "cell_type": "code",
      "source": [
        "BEST_ASSIGNMENT[0:5]"
      ],
      "metadata": {
        "id": "2sBSLRpwACGt",
        "colab": {
          "base_uri": "https://localhost:8080/"
        },
        "outputId": "7e3349d4-9f1d-4d5f-baad-c02895333aec"
      },
      "execution_count": 447,
      "outputs": [
        {
          "output_type": "execute_result",
          "data": {
            "text/plain": [
              "(2, 2, 2, 2, 2)"
            ]
          },
          "metadata": {},
          "execution_count": 447
        }
      ]
    },
    {
      "cell_type": "code",
      "source": [
        "OBJECTS"
      ],
      "metadata": {
        "id": "EOQTsLQmQx9h",
        "colab": {
          "base_uri": "https://localhost:8080/"
        },
        "outputId": "9d279a75-47bc-48b1-a5ec-8d4a808bcede"
      },
      "execution_count": 448,
      "outputs": [
        {
          "output_type": "execute_result",
          "data": {
            "text/plain": [
              "array([[16, 25, 29],\n",
              "       [22, 30, 31],\n",
              "       [19, 25, 27],\n",
              "       ...,\n",
              "       [86, 95, 95],\n",
              "       [85, 89, 96],\n",
              "       [76, 86, 99]])"
            ]
          },
          "metadata": {},
          "execution_count": 448
        }
      ]
    },
    {
      "cell_type": "code",
      "source": [
        "def find_biggest_objects(BEST_ASSIGNMENT,OBJECTS,BEST_SIZES):\n",
        "  # Per tots els objectes d'un mateix assignment, retornar el que tingui norma + petita en relació a la mida de la caixa corresponent\n",
        "  # Pensar un bucle que no sigui una merda com aquest\n",
        "  biggest_object = []\n",
        "  for i in range(NUM_BOXES):\n",
        "    norms = []\n",
        "    for j in range(NUM_OBJECTS):\n",
        "      if BEST_ASSIGNMENT[j] == i:\n",
        "        aux = OBJECTS[j] - BEST_SIZES[i]\n",
        "        norms.append((j, BEST_ASSIGNMENT[j], np.linalg.norm(aux)))\n",
        "    \n",
        "    norms = sorted(norms, key=lambda tup: tup[2])\n",
        "    biggest_object.append(norms[0])\n",
        "  return biggest_object"
      ],
      "metadata": {
        "id": "_LDo-hh__2H9"
      },
      "execution_count": 449,
      "outputs": []
    },
    {
      "cell_type": "code",
      "source": [
        "### PREDICTION FUNTION\n",
        "\n",
        "def predict_alternative_box(biggest_obj, BEST_ASSIGNMENT, OBJECTS, BEST_SIZES):\n",
        "    \n",
        "    obj = tuple(OBJECTS[biggest_obj[0]])\n",
        "    #assert (((isinstance(obj,list) or isinstance(obj,tuple)) and len(obj)==3))\n",
        "    x1, x2, x3 = sorted(list(obj))\n",
        "\n",
        "    current_assig = biggest_obj[1]\n",
        "    #current_box = BEST_SIZES[current_assig]\n",
        "    #print(current_box)\n",
        "    #print(current_assig)\n",
        "    #sizes = np.delete(BEST_SIZES, current_assig, axis=0)\n",
        "    #print(sizes)\n",
        "\n",
        "    min_space = float(\"inf\")\n",
        "    predicted_size = None\n",
        "    assigned_box = None\n",
        "\n",
        "    for box, size in enumerate(BEST_SIZES):\n",
        "        \n",
        "        if box != current_assig:\n",
        "\n",
        "          if None in size:\n",
        "              continue\n",
        "      \n",
        "          if x1<=size[0] and x2<=size[1] and x3<=size[2]:\n",
        "              space = size[0]*size[1]*size[2]\n",
        "\n",
        "              if space < min_space:\n",
        "                  min_space = space\n",
        "                  predicted_size = size\n",
        "                  assigned_box = box\n",
        "\n",
        "    return assigned_box, predicted_size\n"
      ],
      "metadata": {
        "id": "w8jsDmRZ-MmH"
      },
      "execution_count": 450,
      "outputs": []
    },
    {
      "cell_type": "code",
      "source": [
        "# Reduir al màxim BEST_SIZES\n",
        "def compute_new_sizes(BEST_SIZES, NEW_ASSIGNMENT):\n",
        "    NEW_SIZES = np.zeros((len(BEST_SIZES), 3), dtype=int)\n",
        "    NEW_SIZES[0] = BEST_SIZES[0]\n",
        "    \n",
        "    for i in range(1, NUM_BOXES):\n",
        "      max_x1 = 0\n",
        "      max_x2 = 0\n",
        "      max_x3 = 0\n",
        "      for j in range(NUM_OBJECTS):\n",
        "          if NEW_ASSIGNMENT[j] == i:\n",
        "              #print(\"Assignment for object\", j, \":\", BEST_ASSIGNMENT[j], \"  |  \", i)\n",
        "              #print(OBJECTS[j])\n",
        "              max_x1 = max(OBJECTS[j][0], max_x1)\n",
        "              max_x2 = max(OBJECTS[j][1], max_x2)\n",
        "              max_x3 = max(OBJECTS[j][2], max_x3)\n",
        "      \n",
        "      NEW_SIZES[i] = [max_x1, max_x2, max_x3]\n",
        "    \n",
        "    return NEW_SIZES"
      ],
      "metadata": {
        "id": "0-yt-FQg-Mte"
      },
      "execution_count": 451,
      "outputs": []
    },
    {
      "cell_type": "code",
      "source": [
        "def print_solution_stats():\n",
        "      print(\"####   NEW SOLUTION   ####\")\n",
        "      print(\"NEW_SIZES = \", NEW_SIZES[:5])\n",
        "      print(\"Filled Space[%] = \", round(TOTAL_SPACE/NEW_SPACE*100, 2),\"%\")\n",
        "      if len(OBJECTS[0])==3:\n",
        "          unused_boxes = sum([(box==(0,0,0)).all() for box in NEW_SIZES])\n",
        "      else:\n",
        "          unused_boxes = sum([(box==(0,0)).all() for box in NEW_SIZES])\n",
        "      print(\"Unused boxes = {} ({})\".format(unused_boxes, NUM_BOXES))\n",
        "      print(\"####                   ####\")\n",
        "\n",
        "      print(\"Num objects = \", NUM_OBJECTS)\n",
        "      for i in range(NUM_BOXES):\n",
        "          print(\"box\", i, \":\", np.sum( np.array(NEW_ASSIGNMENT)==i), \"objects;   size = \", NEW_SIZES[i])"
      ],
      "metadata": {
        "id": "1wpn_E97hBOQ"
      },
      "execution_count": 452,
      "outputs": []
    },
    {
      "cell_type": "code",
      "source": [
        "def heuristic1():\n",
        "    biggest_obj = find_biggest_objects(BEST_ASSIGNMENT,OBJECTS,BEST_SIZES)\n",
        "    print(\"The biggest objects for each assignment are (index, assignment, distance to the box size):\")\n",
        "    print(biggest_obj)\n",
        "    print(\"---------------------------------------------------------------\")\n",
        "\n",
        "    NEW_ASSIGNMENT = list(BEST_ASSIGNMENT)\n",
        "    for i in range(1, len(BEST_SIZES)):\n",
        "        obj = biggest_obj[i]\n",
        "        old_assig = obj[1]\n",
        "        old_size = BEST_SIZES[old_assig]\n",
        "        new_assig, new_size = predict_alternative_box(obj, BEST_ASSIGNMENT, OBJECTS, BEST_SIZES)\n",
        "        print(\"Current box for object\", i+1, \":\" , old_size, \"| New box for object\", i+1, \": \", new_size )\n",
        "        NEW_ASSIGNMENT[obj[0]] = new_assig\n",
        "    NEW_ASSIGNMENT = tuple(NEW_ASSIGNMENT)\n",
        "\n",
        "    print(\"---------------------------------------------------------------\")\n",
        "\n",
        "    NEW_SIZES = compute_new_sizes(BEST_SIZES, NEW_ASSIGNMENT)\n",
        "\n",
        "    boxes = np.zeros(NUM_BOXES, dtype=int)\n",
        "    \n",
        "    for i in range(NUM_OBJECTS):\n",
        "        boxes[NEW_ASSIGNMENT[i]] +=1\n",
        "        \n",
        "    space = 0.0  #espai buit en el total de caixes\n",
        "\n",
        "    for j in range(NUM_BOXES):\n",
        "        space = space + boxes[j] * NEW_SIZES[j][0] * NEW_SIZES[j][1] * NEW_SIZES[j][2]\n",
        "        \n",
        "    NEW_SPACE = space\n",
        "\n",
        "    print_solution_stats()"
      ],
      "metadata": {
        "id": "5piCJwk3e3WK"
      },
      "execution_count": 453,
      "outputs": []
    },
    {
      "cell_type": "code",
      "source": [
        "print(heuristic1())"
      ],
      "metadata": {
        "colab": {
          "base_uri": "https://localhost:8080/"
        },
        "id": "92kKsdnagoiF",
        "outputId": "a037c37f-5531-4a6d-c7f6-49441c39cad7"
      },
      "execution_count": 454,
      "outputs": [
        {
          "output_type": "stream",
          "name": "stdout",
          "text": [
            "The biggest objects for each assignment are (index, assignment, distance to the box size):\n",
            "[(585, 0, 1.7320508075688772), (829, 1, 0.0), (465, 2, 0.0), (132, 3, 2.449489742783178), (827, 4, 2.23606797749979)]\n",
            "---------------------------------------------------------------\n",
            "Current box for object 2 : [88 91 99] | New box for object 2 :  [95 99 99]\n",
            "Current box for object 3 : [44 56 76] | New box for object 3 :  [83 86 99]\n",
            "Current box for object 4 : [17 18 31] | New box for object 4 :  [44 56 76]\n",
            "Current box for object 5 : [83 86 99] | New box for object 5 :  [88 91 99]\n",
            "---------------------------------------------------------------\n",
            "####   NEW SOLUTION   ####\n",
            "NEW_SIZES =  [[95 99 99]\n",
            " [88 91 99]\n",
            " [44 56 76]\n",
            " [17 18 31]\n",
            " [83 86 99]]\n",
            "Filled Space[%] =  67.43 %\n",
            "Unused boxes = 0 (5)\n",
            "####                   ####\n",
            "Num objects =  1000\n",
            "box 0 : 104 objects;   size =  [95 99 99]\n",
            "box 1 : 157 objects;   size =  [88 91 99]\n",
            "box 2 : 382 objects;   size =  [44 56 76]\n",
            "box 3 : 131 objects;   size =  [17 18 31]\n",
            "box 4 : 226 objects;   size =  [83 86 99]\n",
            "None\n"
          ]
        }
      ]
    },
    {
      "cell_type": "code",
      "source": [
        "# Idea: utilitzar la una funció similar a predict_box (excloent la caixa que se li ha assignat) per a reassignar cada objecte a un altre tipus de caixa\n",
        "# Reduir al màxim el valor de cada dimensió de BEST_SIZES: mirar màxim de x1,x2,x3 d'entre tots els objectes d'un assignment i fixar aquestes mides com a mida de la caixa\n",
        "# Mirar si el percentatge d'espai ocupat ha millorat respecte la solució anterior"
      ],
      "metadata": {
        "id": "9QI_dMde-VBJ"
      },
      "execution_count": 455,
      "outputs": []
    },
    {
      "cell_type": "code",
      "source": [
        "### PREDICTION FUNTION\n",
        "# Els parametres d'entrada poden ser tres floats, o una tupla/llista de 3 valors\n",
        "# Retorna None si el producte és massa gran i no pot anar a cap caixa :(\n",
        "\n",
        "def predict_box(_x1, _x2=None, _x3=None, second=None):\n",
        "    \n",
        "    assert ((isinstance(_x1,float) and isinstance(_x2,float) and isinstance(_x3,float)) or\n",
        "            ((isinstance(_x1,list) or isinstance(_x1,tuple)) and len(_x1)==3 and _x2 is None and _x3 is None))\n",
        "    \n",
        "    if isinstance(_x1,tuple) or isinstance(_x1,list):\n",
        "        x1, x2, x3 = sorted(list(_x1))\n",
        "    else:\n",
        "        x1, x2, x3 = sorted( [_x1, _x2, _x3] )  #assumint que son floats\n",
        "    \n",
        "    min_space = float(\"inf\")\n",
        "    predicted_size = None\n",
        "    assigned_box = None\n",
        "\n",
        "    for box, size in enumerate(NEW_SIZES):\n",
        "\n",
        "        if None in size:\n",
        "            continue\n",
        "    \n",
        "        if x1<=size[0] and x2<=size[1] and x3<=size[2]:\n",
        "            space = size[0]*size[1]*size[2]\n",
        "\n",
        "            if space < min_space:\n",
        "                min_space = space\n",
        "                predicted_size = size\n",
        "                assigned_box = box\n",
        "\n",
        "    return assigned_box, predicted_size\n"
      ],
      "metadata": {
        "id": "2dRdGFbkQTNf"
      },
      "execution_count": 456,
      "outputs": []
    },
    {
      "cell_type": "code",
      "source": [
        "#print( predict_box(32.1, 6.7, 45.7) )\n",
        "#print( predict_box((98.1, 68.4, 34.1)) )\n",
        "#print( predict_box([129, 58, 81]) )"
      ],
      "metadata": {
        "id": "bLMdctGPdHsK"
      },
      "execution_count": 457,
      "outputs": []
    },
    {
      "cell_type": "code",
      "source": [
        ""
      ],
      "metadata": {
        "id": "3TVEgePLmI5S"
      },
      "execution_count": 457,
      "outputs": []
    },
    {
      "cell_type": "code",
      "source": [
        "######################################################################################################"
      ],
      "metadata": {
        "id": "M8sxEeuOmI9A"
      },
      "execution_count": 458,
      "outputs": []
    },
    {
      "cell_type": "code",
      "source": [
        ""
      ],
      "metadata": {
        "id": "tLHuPKramJHy"
      },
      "execution_count": 458,
      "outputs": []
    }
  ]
}
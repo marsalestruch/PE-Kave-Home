{
  "nbformat": 4,
  "nbformat_minor": 0,
  "metadata": {
    "colab": {
      "name": "Colab Marçal.ipynb",
      "provenance": [],
      "collapsed_sections": []
    },
    "kernelspec": {
      "name": "python3",
      "display_name": "Python 3"
    },
    "language_info": {
      "name": "python"
    }
  },
  "cells": [
    {
      "cell_type": "code",
      "source": [
        "import numpy as np"
      ],
      "metadata": {
        "id": "2pimQegR0I7Z"
      },
      "execution_count": 114,
      "outputs": []
    },
    {
      "cell_type": "code",
      "source": [
        "def read_csv(file):\n",
        "    objects = np.genfromtxt(file, delimiter=',',dtype=int)\n",
        "    objects = objects[1:]\n",
        "\n",
        "    objects = objects[:3000]\n",
        "\n",
        "    objects.sort()\n",
        "    total_space = 0.0\n",
        "    for obj in objects:\n",
        "        total_space += obj[0]*obj[1]*obj[2]\n",
        "\n",
        "    return objects, total_space"
      ],
      "metadata": {
        "id": "gRFM9_ha-0JL"
      },
      "execution_count": 115,
      "outputs": []
    },
    {
      "cell_type": "code",
      "source": [
        "OBJECTS, TOTAL_SPACE = read_csv(\"Products_Dimensions.csv\")"
      ],
      "metadata": {
        "id": "Gtjt8j64kvYV"
      },
      "execution_count": 116,
      "outputs": []
    },
    {
      "cell_type": "code",
      "source": [
        "OBJECTS"
      ],
      "metadata": {
        "colab": {
          "base_uri": "https://localhost:8080/"
        },
        "id": "iM7EZ1lxbcvi",
        "outputId": "ec190aee-105d-4309-b4ec-d9bf64f08188"
      },
      "execution_count": 117,
      "outputs": [
        {
          "output_type": "execute_result",
          "data": {
            "text/plain": [
              "array([[  3,  40,  40],\n",
              "       [  7,  87, 187],\n",
              "       [  2,  70,  95],\n",
              "       ...,\n",
              "       [  5,  30,  30],\n",
              "       [  5,  26,  26],\n",
              "       [  4,  22,  22]])"
            ]
          },
          "metadata": {},
          "execution_count": 117
        }
      ]
    },
    {
      "cell_type": "code",
      "source": [
        ""
      ],
      "metadata": {
        "id": "mlbcjQ3cbcjp"
      },
      "execution_count": 117,
      "outputs": []
    },
    {
      "cell_type": "code",
      "source": [
        "# Input: nombre objectes que es volen crear, valors minim i maxim de les mides\n",
        "# Output: objects (shape=(num_objects, 3)), total espai que ocupen\n",
        "\n",
        "def init_objects(num_objects, min_val, max_val):\n",
        "    \n",
        "    dim = 3\n",
        "\n",
        "    #Intenta crear una distribució no-uniforme, per a crear \"clusters\"\n",
        "    #o1 = np.random.randint(min_val, min_val+(max_val-min_val)//4, size=(num_objects*3//7 * dim))\n",
        "    #o2 = np.random.randint(max_val//4, min_val+(max_val-min_val)*3//4, size=(num_objects//7 * dim))\n",
        "    #o3 = np.random.randint(max_val*3//4, min_val+(max_val-min_val), size=(dim*num_objects-len(o1)-len(o2)))\n",
        "\n",
        "    o1 = np.random.randint(min_val, max_val, size=(num_objects*3//7 * dim))\n",
        "    o2 = np.random.randint(min_val, max_val, size=(num_objects//7 * dim))\n",
        "    o3 = np.random.randint(min_val, max_val, size=(dim*num_objects-len(o1)-len(o2)))\n",
        "\n",
        "    objects = np.concatenate([o1,o2,o3])\n",
        "    #np.random.shuffle(objects)\n",
        "    \n",
        "    objects = objects.reshape((num_objects, dim))\n",
        "    objects.sort()\n",
        "\n",
        "    total_space = 0.0  #espai total dels objectes\n",
        "    for obj in objects:\n",
        "        s = obj[0]*obj[1]\n",
        "        if dim==3:\n",
        "            s *= obj[2]\n",
        "        total_space += s\n",
        "\n",
        "    return objects, total_space\n"
      ],
      "metadata": {
        "id": "wzLzWWxf2Eus"
      },
      "execution_count": 118,
      "outputs": []
    },
    {
      "cell_type": "code",
      "source": [
        "#Input: nombre de caixes a inicialitzar, llista d'objectes\n",
        "#Output: es trien mides de caixes iguals que mides d'alguns objectes (random)\n",
        "#OBS// una de les caixes ha de ser de mida màxima (que pugui contenir qualsevol objecte)\n",
        "\n",
        "def init_boxes(num_boxes, objects):\n",
        "    \n",
        "    box_sizes = []\n",
        "    box_sizes.append( tuple(np.max(objects, axis=0)) )  #aquesta caixa pot contenir qualsevol objecte\n",
        "\n",
        "    idx = np.random.choice(len(objects), size=num_boxes-1, replace=False)\n",
        "\n",
        "    for i in idx:\n",
        "        box_sizes.append( tuple(objects[i]) )\n",
        "    \n",
        "    return np.sort( np.array(box_sizes) )\n"
      ],
      "metadata": {
        "id": "NDFQFy5osVKd"
      },
      "execution_count": 119,
      "outputs": []
    },
    {
      "cell_type": "code",
      "source": [
        "### Input: llista d'objectes, una assignació de caixes a cada objecte\n",
        "# Com a màxim s'usen 'NUM_CAIXES' caixes (pot ser menys)\n",
        "### Output: una llista de tripletes amb les mides de les caixes\n",
        "\n",
        "def compute_sizes(objects, box_assignment, num_boxes):\n",
        "    if len(objects[0])==3:\n",
        "        sizes = [(0,0,0)] * num_boxes   #sizes[k] = (X1,X2,X3)  => mida caixa 'k'\n",
        "    else:\n",
        "        sizes = [(0,0)] * num_boxes\n",
        "\n",
        "    for box in range(num_boxes):\n",
        "        object_indexes = np.where(np.array(box_assignment)==box)[0]\n",
        "\n",
        "        if list(object_indexes):\n",
        "            sizes[box] = tuple(np.max( objects[object_indexes], axis=0))\n",
        "    \n",
        "    #assert sum([s[0]*s[1]*s[2] == 0 for s in sizes]) == 0\n",
        "    return np.sort( np.array(sizes) )\n"
      ],
      "metadata": {
        "id": "u4kioXSO38dP"
      },
      "execution_count": 120,
      "outputs": []
    },
    {
      "cell_type": "code",
      "source": [
        ""
      ],
      "metadata": {
        "id": "fu2nQrI4cGsf"
      },
      "execution_count": 120,
      "outputs": []
    },
    {
      "cell_type": "code",
      "source": [
        "### Input: llista d'objectes i llista de mides de caixes\n",
        "### Output: vector d'assignació per a cada objecte.\n",
        "\n",
        "def compute_assignment(objects, box_sizes):\n",
        "\n",
        "    assignment = [None] * len(objects)\n",
        "\n",
        "    for obj_id, obj in enumerate(objects):\n",
        "\n",
        "        min_space = float(\"inf\")\n",
        "\n",
        "        for box_id, box in enumerate(box_sizes):\n",
        "            if (np.array(box) == 0).all():\n",
        "                #print(\"Caixa sense mesura (compute_assignment\")\n",
        "                continue\n",
        "\n",
        "            if len(box)==3:\n",
        "                assert box[0] <= box[1] <= box[2]\n",
        "                assert obj[0] <= obj[1] <= obj[2]\n",
        "                box_space = box[0]*box[1]*box[2]\n",
        "                fits = obj[0]<=box[0] and obj[1]<=box[1] and obj[2]<=obj[2]\n",
        "            elif len(box)==2:\n",
        "                assert box[0] <= box[1]\n",
        "                assert obj[0] <= obj[1]\n",
        "                box_space = box[0]*box[1]\n",
        "                fits = obj[0]<=box[0] and obj[1]<=box[1]\n",
        "            #print(\"    \", box, \":\", box_space, \"fits:\", fits)\n",
        "            if fits and box_space < min_space:\n",
        "                assignment[obj_id] = box_id \n",
        "                min_space = box_space\n",
        "\n",
        "    #print(assignment)\n",
        "    assert sum([s is None for s in assignment]) == 0\n",
        "    return np.array(assignment)\n",
        "   "
      ],
      "metadata": {
        "id": "NJP6z_LMwU0d"
      },
      "execution_count": 121,
      "outputs": []
    },
    {
      "cell_type": "code",
      "source": [
        "### Comprova si el input donat és més òptim que la millor solució actual\n",
        "### Si cal, actualitza les variables globals per a guardar la millor solució\n",
        "\n",
        "def check_if_best(box_assignment, box_sizes):\n",
        "\n",
        "    space = 0.0  #espai buit en el total de caixes\n",
        "    \n",
        "    for box, size in enumerate(box_sizes):\n",
        "        if size is not None:\n",
        "            a = np.sum(box_assignment==box)\n",
        "            if len(size)==3:\n",
        "                space += a*size[0]*size[1]*size[2]\n",
        "            elif len(size)==2:\n",
        "                space += a*size[0]*size[1]\n",
        "\n",
        "\n",
        "\n",
        "    global BEST_SIZES\n",
        "    global BEST_SPACE\n",
        "    global BEST_ASSIGNMENT\n",
        "\n",
        "    #print(\"Space:\", space)\n",
        "    #print(\"Best space:\", BEST_SPACE)\n",
        "\n",
        "    if space < BEST_SPACE:\n",
        "        #print(\"hey\")\n",
        "\n",
        "        BEST_SPACE = space\n",
        "        BEST_ASSIGNMENT = tuple(box_assignment)\n",
        "        BEST_SIZES = box_sizes\n"
      ],
      "metadata": {
        "id": "A2ULx4t2Ih6i"
      },
      "execution_count": 122,
      "outputs": []
    },
    {
      "cell_type": "code",
      "source": [
        "\"\"\"K-MEANS MAIN FUNCTION\"\"\"\n",
        "### INICIALITZACIÓ DE MIDES DE CAIXES ###\n",
        "\n",
        "###  PARAMETRES\n",
        "DIM = 3\n",
        "#NUM_OBJECTS = 18\n",
        "NUM_OBJECTS = len(OBJECTS)\n",
        "NUM_BOXES = 12\n",
        "NUM_ITER = 500\n",
        "MIN_VAL = 10\n",
        "MAX_VAL = 100\n",
        "np.random.seed(1234)\n",
        "\n",
        "###  GLOBAL VARIABLES\n",
        "BEST_SPACE = float('inf')  #espai total de caixes\n",
        "BEST_SIZE = None\n",
        "BEST_ASSIGNMENT = None\n",
        "\n",
        "#Inicialitzem els objectes\n",
        "#OBJECTS, TOTAL_SPACE = init_objects(NUM_OBJECTS, MIN_VAL, MAX_VAL)\n",
        "#OBJECTS, TOTAL_SPACE = read_csv(\"objectes.csv\")\n",
        "#NUM_OBJECTS = len(OBJECTS)\n",
        "\n",
        "#Executem l'algorisme NUM_ITER vegades\n",
        "for i in range(NUM_ITER):\n",
        "\n",
        "    if i%10 == 0:\n",
        "        print(\"i =\", i)\n",
        "\n",
        "    #Comencem amb assignació aleatoria de mides de caixes\n",
        "    box_sizes = init_boxes(NUM_BOXES, OBJECTS)\n",
        "\n",
        "    j = 0\n",
        "    convergence = False  #convergence: quan no s'actualitzin les assignacions (minim local)\n",
        "    while not convergence and j < 100:\n",
        "\n",
        "        #Calcul de mides de caixes amb assignació actual\n",
        "        #old_sizes = box_sizes.copy()\n",
        "        box_assignment = compute_assignment(OBJECTS, box_sizes)\n",
        "\n",
        "        #Calcul de mides de caixes segon assignacions actuals\n",
        "        #print(\"EEEEE\", box_sizes)\n",
        "        new_sizes = compute_sizes(OBJECTS, box_assignment, NUM_BOXES)\n",
        "        convergence = (np.array(box_sizes) == np.array(new_sizes)).all()\n",
        "        j += 1\n",
        "        if convergence:\n",
        "            #print(\"iters before convergence =\", i)\n",
        "            pass\n",
        "        \n",
        "        print_ = False\n",
        "        if print_:\n",
        "            print(\"current assignment =\", box_assignment)\n",
        "            print(\"old box_sizes =\", box_sizes)\n",
        "            print(\"new box_sizes =\", new_sizes)\n",
        "            print(\"convergence? = \", convergence, \"(\",j,\")\")\n",
        "            print()\n",
        "            \n",
        "        box_sizes = new_sizes.copy()\n",
        "\n",
        "        check_if_best(box_assignment, box_sizes)\n"
      ],
      "metadata": {
        "colab": {
          "base_uri": "https://localhost:8080/"
        },
        "id": "eVtm4_dKdC2H",
        "outputId": "1a55e5c1-a2a3-435a-c809-baec30fbed44"
      },
      "execution_count": null,
      "outputs": [
        {
          "output_type": "stream",
          "name": "stdout",
          "text": [
            "i = 0\n",
            "i = 10\n",
            "i = 20\n"
          ]
        }
      ]
    },
    {
      "cell_type": "code",
      "source": [
        "import matplotlib.pyplot as plt\n",
        "\n",
        "def plot(objects, box_assignment, box_sizes, display_info=False):\n",
        "\n",
        "    colors = ('b','g','r','c','m','y','k','w')\n",
        "    assert len(colors) >= len(box_sizes)  #afegir més colors!\n",
        "\n",
        "    box_assignment = np.array(box_assignment)\n",
        "\n",
        "    for box_id in range(len(box_sizes)):\n",
        "        c = colors[box_id]\n",
        "        objs = objects[box_assignment==box_id]\n",
        "        if display_info:\n",
        "            print(\"box_id:\",box_id,\"  size:\",best_sizes[box_id],\"  num_objs:\",len(objs),\"  min_obj:\",np.min(objs,axis=0),\"  max_obj:\",np.max(objs,axis=0))\n",
        "        plt.scatter(objs[:,0], objs[:,1], marker=\".\", c=c)\n",
        "        a,b = box_sizes[box_id]\n",
        "        plt.plot((0,a), (b,b), color=c)\n",
        "        plt.plot((a,a), (0,b), color=c)\n",
        "        \n",
        "    plt.show()\n",
        "\n",
        "#plot(OBJECTS, BEST_ASSIGNMENT, BEST_SIZES)"
      ],
      "metadata": {
        "id": "-rBsVZiMrICA"
      },
      "execution_count": null,
      "outputs": []
    },
    {
      "cell_type": "code",
      "source": [
        "for id, o in enumerate(OBJECTS):\n",
        "    if o[0]==26 and o[1]==30:\n",
        "        print(id, o)"
      ],
      "metadata": {
        "id": "OWnpldEFBRFq"
      },
      "execution_count": null,
      "outputs": []
    },
    {
      "cell_type": "code",
      "source": [
        "oo = OBJECTS[np.array(BEST_ASSIGNMENT)==0]\n",
        "print(len(oo))\n",
        "plt.scatter(oo[:,0], oo[:,1])"
      ],
      "metadata": {
        "id": "HuNHnrjn5npF"
      },
      "execution_count": null,
      "outputs": []
    },
    {
      "cell_type": "code",
      "source": [
        "print(\"####   BEST SOLUTION   ####\")\n",
        "print(\"BEST_SIZES = \", BEST_SIZES[:5])\n",
        "print(\"Filled Space[%] = \", round(TOTAL_SPACE/BEST_SPACE*100, 2),\"%\")\n",
        "if len(OBJECTS[0])==3:\n",
        "    unused_boxes = sum([(box==(0,0,0)).all() for box in BEST_SIZES])\n",
        "else:\n",
        "    unused_boxes = sum([(box==(0,0)).all() for box in BEST_SIZES])\n",
        "print(\"Unused boxes = {} ({})\".format(unused_boxes, NUM_BOXES))\n",
        "print(\"####                   ####\")\n",
        "\n",
        "print(\"Num objects = \", NUM_OBJECTS)\n",
        "for i in range(NUM_BOXES):\n",
        "    print(\"box\", i, \":\", np.sum( np.array(BEST_ASSIGNMENT)==i), \"objects;   size = \", BEST_SIZES[i])"
      ],
      "metadata": {
        "id": "d-CaBY5b_Hkd"
      },
      "execution_count": null,
      "outputs": []
    },
    {
      "cell_type": "code",
      "source": [
        "print(TOTAL_SPACE)\n",
        "print(BEST_SPACE)"
      ],
      "metadata": {
        "id": "MhndejhgvECw"
      },
      "execution_count": null,
      "outputs": []
    },
    {
      "cell_type": "code",
      "source": [
        "print(\"OBJECT_size  -->  BOX_size\")\n",
        "i = 0\n",
        "for box, obj in zip(BEST_ASSIGNMENT,OBJECTS):\n",
        "    box_size = BEST_SIZES[box]\n",
        "    print(obj, \" ---> \", box_size)\n",
        "    \n",
        "    i += 1\n",
        "    if i > 20:\n",
        "        break"
      ],
      "metadata": {
        "id": "3RxE32kPEVkb"
      },
      "execution_count": null,
      "outputs": []
    },
    {
      "cell_type": "code",
      "source": [
        "BEST_SIZES"
      ],
      "metadata": {
        "id": "juifwxLBG352"
      },
      "execution_count": null,
      "outputs": []
    },
    {
      "cell_type": "code",
      "source": [
        "BEST_ASSIGNMENT[0:5]"
      ],
      "metadata": {
        "id": "2sBSLRpwACGt"
      },
      "execution_count": null,
      "outputs": []
    },
    {
      "cell_type": "code",
      "source": [
        "OBJECTS"
      ],
      "metadata": {
        "id": "EOQTsLQmQx9h"
      },
      "execution_count": null,
      "outputs": []
    },
    {
      "cell_type": "code",
      "source": [
        "def find_biggest_objects(best_assignment, objects, best_sizes):\n",
        "    # Per tots els objectes d'un mateix assignment, retornar el que tingui norma + petita en relació a la mida de la caixa corresponent\n",
        "    # Pensar un bucle que no sigui una merda com aquest\n",
        "    biggest_object = []\n",
        "    for i in range(NUM_BOXES):\n",
        "        norms = []\n",
        "        for j in range(NUM_OBJECTS):\n",
        "            if best_assignment[j] == i:\n",
        "                aux = objects[j] - best_sizes[i]\n",
        "                norms.append((j, best_assignment[j], np.linalg.norm(aux)))\n",
        "      \n",
        "        norms = sorted(norms, key=lambda tup: tup[2])\n",
        "        if len(norms) > 0:  # Per casos on hi hagi una caixa de mida 0,0,0 sense cap assignació\n",
        "            biggest_object.append(norms[0])\n",
        "    return biggest_object"
      ],
      "metadata": {
        "id": "_LDo-hh__2H9"
      },
      "execution_count": null,
      "outputs": []
    },
    {
      "cell_type": "code",
      "source": [
        "### PREDICTION FUNTION\n",
        "\n",
        "def predict_alternative_box(biggest_obj, best_assignment, objects, best_sizes):\n",
        "    \n",
        "    obj = tuple(objects[biggest_obj[0]])\n",
        "    #assert (((isinstance(obj,list) or isinstance(obj,tuple)) and len(obj)==3))\n",
        "    x1, x2, x3 = sorted(list(obj))\n",
        "\n",
        "    current_assig = biggest_obj[1]\n",
        "    min_space = float(\"inf\")\n",
        "    predicted_size = None\n",
        "    assigned_box = None\n",
        "\n",
        "    for box, size in enumerate(best_sizes):\n",
        "        \n",
        "        if box != current_assig:\n",
        "\n",
        "          if None in size:\n",
        "              continue\n",
        "      \n",
        "          if x1<=size[0] and x2<=size[1] and x3<=size[2]:\n",
        "              space = size[0]*size[1]*size[2]\n",
        "\n",
        "              if space < min_space:\n",
        "                  min_space = space\n",
        "                  predicted_size = size\n",
        "                  assigned_box = box\n",
        "        \n",
        "    if assigned_box == None: # No s'ha pogut trobar una solució alternativa!\n",
        "        assigned_box = current_assig\n",
        "\n",
        "    return assigned_box, predicted_size\n"
      ],
      "metadata": {
        "id": "w8jsDmRZ-MmH"
      },
      "execution_count": null,
      "outputs": []
    },
    {
      "cell_type": "code",
      "source": [
        "# Reduir al màxim BEST_SIZES\n",
        "def compute_new_sizes(best_sizes, new_assignment, objects):\n",
        "    NEW_SIZES = np.zeros((len(best_sizes), 3), dtype=int)\n",
        "    NEW_SIZES[0] = best_sizes[0]\n",
        "    \n",
        "    for i in range(1, NUM_BOXES):\n",
        "      max_x1 = 0\n",
        "      max_x2 = 0\n",
        "      max_x3 = 0\n",
        "      for j in range(NUM_OBJECTS):\n",
        "          if new_assignment[j] == i:\n",
        "              #print(\"Assignment for object\", j, \":\", BEST_ASSIGNMENT[j], \"  |  \", i)\n",
        "              #print(OBJECTS[j])\n",
        "              max_x1 = max(objects[j][0], max_x1)\n",
        "              max_x2 = max(objects[j][1], max_x2)\n",
        "              max_x3 = max(objects[j][2], max_x3)\n",
        "      \n",
        "      NEW_SIZES[i] = [max_x1, max_x2, max_x3]\n",
        "    \n",
        "    return NEW_SIZES"
      ],
      "metadata": {
        "id": "0-yt-FQg-Mte"
      },
      "execution_count": null,
      "outputs": []
    },
    {
      "cell_type": "code",
      "source": [
        "def print_solution_stats(NEW_SIZES, NUM_BOXES, NEW_ASSIGNMENT, NEW_SPACE):\n",
        "      print(\"####   NEW SOLUTION   ####\")\n",
        "      print(\"NEW_SIZES = \", NEW_SIZES[:10])\n",
        "      print(\"Filled Space[%] = \", round(TOTAL_SPACE/NEW_SPACE*100, 2),\"%\")\n",
        "      if len(OBJECTS[0])==3:\n",
        "          unused_boxes = sum([(box==(0,0,0)).all() for box in NEW_SIZES])\n",
        "      else:\n",
        "          unused_boxes = sum([(box==(0,0)).all() for box in NEW_SIZES])\n",
        "      print(\"Unused boxes = {} ({})\".format(unused_boxes, NUM_BOXES))\n",
        "      print(\"####                   ####\")\n",
        "\n",
        "      print(\"Num objects = \", NUM_OBJECTS)\n",
        "      for i in range(NUM_BOXES):\n",
        "          print(\"box\", i, \":\", np.sum( np.array(NEW_ASSIGNMENT)==i), \"objects;   size = \", NEW_SIZES[i])"
      ],
      "metadata": {
        "id": "1wpn_E97hBOQ"
      },
      "execution_count": null,
      "outputs": []
    },
    {
      "cell_type": "code",
      "source": [
        "def heuristic1():\n",
        "    biggest_obj = find_biggest_objects(BEST_ASSIGNMENT,OBJECTS,BEST_SIZES)\n",
        "    print(\"The biggest objects for each assignment are (index, assignment, distance to the box size):\")\n",
        "    print(biggest_obj)\n",
        "    print(\"---------------------------------------------------------------\")\n",
        "\n",
        "    NEW_ASSIGNMENT = list(BEST_ASSIGNMENT)\n",
        "    for i in range(0, len(biggest_obj)):\n",
        "        obj = biggest_obj[i]\n",
        "        old_assig = obj[1]\n",
        "        old_size = BEST_SIZES[old_assig]\n",
        "        new_assig, new_size = predict_alternative_box(obj, BEST_ASSIGNMENT, OBJECTS, BEST_SIZES)\n",
        "        if new_assig == old_assig:\n",
        "            new_size = old_size\n",
        "        print(\"Current box for object\", i+1, \":\" , old_size, \"| New box for object\", i+1, \": \", new_size )\n",
        "        NEW_ASSIGNMENT[obj[0]] = new_assig\n",
        "    NEW_ASSIGNMENT = tuple(NEW_ASSIGNMENT)\n",
        "\n",
        "    print(\"---------------------------------------------------------------\")\n",
        "\n",
        "    NEW_SIZES = compute_new_sizes(BEST_SIZES, NEW_ASSIGNMENT, OBJECTS)\n",
        "\n",
        "    boxes = np.zeros(NUM_BOXES, dtype=int)\n",
        "    \n",
        "    for i in range(NUM_OBJECTS):\n",
        "        boxes[NEW_ASSIGNMENT[i]] +=1\n",
        "        \n",
        "    space = 0.0  #espai buit en el total de caixes\n",
        "\n",
        "    for j in range(NUM_BOXES):\n",
        "        space = space + boxes[j] * NEW_SIZES[j][0] * NEW_SIZES[j][1] * NEW_SIZES[j][2]\n",
        "        \n",
        "    NEW_SPACE = space\n",
        "\n",
        "    print_solution_stats(NEW_SIZES, NUM_BOXES, NEW_ASSIGNMENT, NEW_SPACE)"
      ],
      "metadata": {
        "id": "5piCJwk3e3WK"
      },
      "execution_count": null,
      "outputs": []
    },
    {
      "cell_type": "code",
      "source": [
        ""
      ],
      "metadata": {
        "id": "gT0FN_okudWU"
      },
      "execution_count": null,
      "outputs": []
    },
    {
      "cell_type": "code",
      "source": [
        "print(heuristic1())"
      ],
      "metadata": {
        "id": "92kKsdnagoiF"
      },
      "execution_count": null,
      "outputs": []
    },
    {
      "cell_type": "code",
      "source": [
        "# Idea: utilitzar la una funció similar a predict_box (excloent la caixa que se li ha assignat) per a reassignar cada objecte a un altre tipus de caixa\n",
        "# Reduir al màxim el valor de cada dimensió de BEST_SIZES: mirar màxim de x1,x2,x3 d'entre tots els objectes d'un assignment i fixar aquestes mides com a mida de la caixa\n",
        "# Mirar si el percentatge d'espai ocupat ha millorat respecte la solució anterior"
      ],
      "metadata": {
        "id": "9QI_dMde-VBJ"
      },
      "execution_count": null,
      "outputs": []
    },
    {
      "cell_type": "code",
      "source": [
        "### PREDICTION FUNTION\n",
        "# Els parametres d'entrada poden ser tres floats, o una tupla/llista de 3 valors\n",
        "# Retorna None si el producte és massa gran i no pot anar a cap caixa :(\n",
        "\n",
        "def predict_box(_x1, _x2=None, _x3=None, second=None):\n",
        "    \n",
        "    assert ((isinstance(_x1,float) and isinstance(_x2,float) and isinstance(_x3,float)) or\n",
        "            ((isinstance(_x1,list) or isinstance(_x1,tuple)) and len(_x1)==3 and _x2 is None and _x3 is None))\n",
        "    \n",
        "    if isinstance(_x1,tuple) or isinstance(_x1,list):\n",
        "        x1, x2, x3 = sorted(list(_x1))\n",
        "    else:\n",
        "        x1, x2, x3 = sorted( [_x1, _x2, _x3] )  #assumint que son floats\n",
        "    \n",
        "    min_space = float(\"inf\")\n",
        "    predicted_size = None\n",
        "    assigned_box = None\n",
        "\n",
        "    for box, size in enumerate(NEW_SIZES):\n",
        "\n",
        "        if None in size:\n",
        "            continue\n",
        "    \n",
        "        if x1<=size[0] and x2<=size[1] and x3<=size[2]:\n",
        "            space = size[0]*size[1]*size[2]\n",
        "\n",
        "            if space < min_space:\n",
        "                min_space = space\n",
        "                predicted_size = size\n",
        "                assigned_box = box\n",
        "\n",
        "    return assigned_box, predicted_size\n"
      ],
      "metadata": {
        "id": "2dRdGFbkQTNf"
      },
      "execution_count": null,
      "outputs": []
    },
    {
      "cell_type": "code",
      "source": [
        "#print( predict_box(32.1, 6.7, 45.7) )\n",
        "#print( predict_box((98.1, 68.4, 34.1)) )\n",
        "#print( predict_box([129, 58, 81]) )"
      ],
      "metadata": {
        "id": "bLMdctGPdHsK"
      },
      "execution_count": null,
      "outputs": []
    },
    {
      "cell_type": "code",
      "source": [
        ""
      ],
      "metadata": {
        "id": "3TVEgePLmI5S"
      },
      "execution_count": null,
      "outputs": []
    },
    {
      "cell_type": "code",
      "source": [
        "######################################################################################################"
      ],
      "metadata": {
        "id": "M8sxEeuOmI9A"
      },
      "execution_count": null,
      "outputs": []
    },
    {
      "cell_type": "code",
      "source": [
        "def compute_baseline(objects, num_boxes, method):\n",
        "    assignments = np.array([None] * len(objects))\n",
        "    vec = np.array([None] * len(objects))\n",
        "    quantiles = np.array([None] * num_boxes)\n",
        "\n",
        "    if method == \"volume\":\n",
        "        for i in range(NUM_OBJECTS):\n",
        "            vec[i] = objects[i][0] * objects[i][1] * objects[i][2]\n",
        "    \n",
        "    elif method == \"diagonal\":\n",
        "        for i in range(NUM_OBJECTS):\n",
        "            vec[i] = 0\n",
        "            for xi in objects[i]:\n",
        "                vec[i] += xi*xi\n",
        "\n",
        "    for j in range(num_boxes):\n",
        "        quantiles[j] = np.quantile(vec, (j+1)/num_boxes)\n",
        "\n",
        "    for i in range(NUM_OBJECTS):\n",
        "        j = 0;\n",
        "        while j < num_boxes and assignments[i] == None:\n",
        "            #print(i, j)\n",
        "            if vec[i] > quantiles[j]:\n",
        "                j+=1\n",
        "            else:\n",
        "                assignments[i] = j\n",
        "\n",
        "    # Per a calcular l'espai ocupat\n",
        "    sizes = compute_sizes(objects, assignments, num_boxes)\n",
        "    boxes = np.zeros(num_boxes, dtype=int)\n",
        "    for i in range(NUM_OBJECTS):\n",
        "        boxes[assignments[i]] +=1 \n",
        "    space = 0.0  \n",
        "    for j in range(num_boxes):\n",
        "        space = space + boxes[j] * sizes[j][0] * sizes[j][1] * sizes[j][2]\n",
        "    NEW_SPACE = space\n",
        "\n",
        "    return sizes, assignments, NEW_SPACE"
      ],
      "metadata": {
        "id": "CveVH2DgKmBc"
      },
      "execution_count": null,
      "outputs": []
    },
    {
      "cell_type": "code",
      "source": [
        "# Creació d'un baseline\n",
        "baseline_sizes, baseline_assignments, baseline_new_space = compute_baseline(OBJECTS, NUM_BOXES, \"volume\")\n",
        "print_solution_stats(baseline_sizes, NUM_BOXES, baseline_assignments, baseline_new_space)\n",
        "\n",
        "print(\"----------------------------------------------------------------------------------------------\")\n",
        "\n",
        "baseline_sizes, baseline_assignments, baseline_new_space = compute_baseline(OBJECTS, NUM_BOXES, \"diagonal\")\n",
        "print_solution_stats(baseline_sizes, NUM_BOXES, baseline_assignments, baseline_new_space)"
      ],
      "metadata": {
        "id": "tLHuPKramJHy"
      },
      "execution_count": null,
      "outputs": []
    }
  ]
}